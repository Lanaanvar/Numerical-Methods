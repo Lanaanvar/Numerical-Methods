{
  "nbformat": 4,
  "nbformat_minor": 0,
  "metadata": {
    "colab": {
      "provenance": [],
      "authorship_tag": "ABX9TyM2FeAZ7ec3yxxlTOBed8Yt",
      "include_colab_link": true
    },
    "kernelspec": {
      "name": "python3",
      "display_name": "Python 3"
    },
    "language_info": {
      "name": "python"
    }
  },
  "cells": [
    {
      "cell_type": "markdown",
      "metadata": {
        "id": "view-in-github",
        "colab_type": "text"
      },
      "source": [
        "<a href=\"https://colab.research.google.com/github/Lanaanvar/Numerical-Methods/blob/main/Bisection_method.ipynb\" target=\"_parent\"><img src=\"https://colab.research.google.com/assets/colab-badge.svg\" alt=\"Open In Colab\"/></a>"
      ]
    },
    {
      "cell_type": "code",
      "execution_count": null,
      "metadata": {
        "colab": {
          "base_uri": "https://localhost:8080/"
        },
        "id": "aLVm8p5ypOED",
        "outputId": "751dd7fa-9dd0-4eb1-fe40-79694cc3869b"
      },
      "outputs": [
        {
          "output_type": "stream",
          "name": "stdout",
          "text": [
            "Iteration :  1\n",
            "a :  1\n",
            "b :  1.5\n",
            "c :  1.25\n",
            "Iteration :  2\n",
            "a :  1\n",
            "b :  1.25\n",
            "c :  1.125\n",
            "Iteration :  3\n",
            "a :  1.125\n",
            "b :  1.25\n",
            "c :  1.1875\n",
            "Iteration :  4\n",
            "a :  1.125\n",
            "b :  1.1875\n",
            "c :  1.15625\n",
            "Iteration :  5\n",
            "a :  1.125\n",
            "b :  1.15625\n",
            "c :  1.140625\n",
            "Iteration :  6\n",
            "a :  1.125\n",
            "b :  1.140625\n",
            "c :  1.1328125\n",
            "Iteration :  7\n",
            "a :  1.1328125\n",
            "b :  1.140625\n",
            "c :  1.13671875\n",
            "Iteration :  8\n",
            "a :  1.1328125\n",
            "b :  1.13671875\n",
            "c :  1.134765625\n",
            "Iteration :  9\n",
            "a :  1.1328125\n",
            "b :  1.134765625\n",
            "c :  1.1337890625\n",
            "Iteration :  10\n",
            "a :  1.1337890625\n",
            "b :  1.134765625\n",
            "c :  1.13427734375\n",
            "Iteration :  11\n",
            "a :  1.13427734375\n",
            "b :  1.134765625\n",
            "c :  1.134521484375\n",
            "Iteration :  12\n",
            "a :  1.134521484375\n",
            "b :  1.134765625\n",
            "c :  1.1346435546875\n",
            "Iteration :  13\n",
            "a :  1.1346435546875\n",
            "b :  1.134765625\n",
            "c :  1.13470458984375\n",
            "Iteration :  14\n",
            "a :  1.13470458984375\n",
            "b :  1.134765625\n",
            "c :  1.134735107421875\n",
            "root :  1.134735107421875\n"
          ]
        }
      ],
      "source": [
        "def bisection_method(a,b,t) :\n",
        "  i=0;\n",
        "  c=(a+b)/2\n",
        "  while ((b-c)>t):\n",
        "    f=c**6-c-1\n",
        "    if f<0:\n",
        "      a=c\n",
        "    elif f>0:\n",
        "      b=c\n",
        "    c=(a+b)/2\n",
        "    i=i+1\n",
        "    print(\"Iteration : \", i)\n",
        "    print(\"a : \", a)\n",
        "    print(\"b : \", b)\n",
        "    print(\"c : \", c)\n",
        "  print(\"root : \", c)\n",
        "\n",
        "bisection_method(1,2,0.00005)"
      ]
    },
    {
      "cell_type": "code",
      "source": [
        "def fun(j):\n",
        "  f=(j**6)-j-1;\n",
        "  return f\n",
        "\n",
        "def bisection_method(t) :\n",
        "  i=0;\n",
        "  j=0\n",
        "  while(fun(j)*fun(j+1)>0):\n",
        "    j=j+1\n",
        "  a=j\n",
        "  b=j+1\n",
        "  print(\"a : \",a)\n",
        "  print(\"b : \",b)\n",
        "  c=(a+b)/2\n",
        "  while ((b-c)>t):\n",
        "    f=fun(c)\n",
        "    if f<0:\n",
        "      a=c\n",
        "    elif f>0:\n",
        "      b=c\n",
        "    c=(a+b)/2\n",
        "    i=i+1\n",
        "    print(\"Iteration : \", i)\n",
        "    print(\"a : \", a)\n",
        "    print(\"b : \", b)\n",
        "    print(\"c : \", c)\n",
        "  print(\"root : \", c)\n",
        "\n",
        "\n",
        "\n",
        "bisection_method(0.00005)"
      ],
      "metadata": {
        "colab": {
          "base_uri": "https://localhost:8080/"
        },
        "id": "Sji5bx89tzK0",
        "outputId": "fc9e8d03-1c3b-4525-9232-ebc27b725a27"
      },
      "execution_count": null,
      "outputs": [
        {
          "output_type": "stream",
          "name": "stdout",
          "text": [
            "a :  1\n",
            "b :  2\n",
            "Iteration :  1\n",
            "a :  1\n",
            "b :  1.5\n",
            "c :  1.25\n",
            "Iteration :  2\n",
            "a :  1\n",
            "b :  1.25\n",
            "c :  1.125\n",
            "Iteration :  3\n",
            "a :  1.125\n",
            "b :  1.25\n",
            "c :  1.1875\n",
            "Iteration :  4\n",
            "a :  1.125\n",
            "b :  1.1875\n",
            "c :  1.15625\n",
            "Iteration :  5\n",
            "a :  1.125\n",
            "b :  1.15625\n",
            "c :  1.140625\n",
            "Iteration :  6\n",
            "a :  1.125\n",
            "b :  1.140625\n",
            "c :  1.1328125\n",
            "Iteration :  7\n",
            "a :  1.1328125\n",
            "b :  1.140625\n",
            "c :  1.13671875\n",
            "Iteration :  8\n",
            "a :  1.1328125\n",
            "b :  1.13671875\n",
            "c :  1.134765625\n",
            "Iteration :  9\n",
            "a :  1.1328125\n",
            "b :  1.134765625\n",
            "c :  1.1337890625\n",
            "Iteration :  10\n",
            "a :  1.1337890625\n",
            "b :  1.134765625\n",
            "c :  1.13427734375\n",
            "Iteration :  11\n",
            "a :  1.13427734375\n",
            "b :  1.134765625\n",
            "c :  1.134521484375\n",
            "Iteration :  12\n",
            "a :  1.134521484375\n",
            "b :  1.134765625\n",
            "c :  1.1346435546875\n",
            "Iteration :  13\n",
            "a :  1.1346435546875\n",
            "b :  1.134765625\n",
            "c :  1.13470458984375\n",
            "Iteration :  14\n",
            "a :  1.13470458984375\n",
            "b :  1.134765625\n",
            "c :  1.134735107421875\n",
            "root :  1.134735107421875\n"
          ]
        }
      ]
    },
    {
      "cell_type": "code",
      "source": [],
      "metadata": {
        "id": "V1xPMOsJw4AU"
      },
      "execution_count": null,
      "outputs": []
    }
  ]
}