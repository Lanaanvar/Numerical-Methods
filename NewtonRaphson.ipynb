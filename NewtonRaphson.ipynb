{
  "nbformat": 4,
  "nbformat_minor": 0,
  "metadata": {
    "colab": {
      "provenance": [],
      "authorship_tag": "ABX9TyMJ10KQPj5EaRW5nyuPcJVN",
      "include_colab_link": true
    },
    "kernelspec": {
      "name": "python3",
      "display_name": "Python 3"
    },
    "language_info": {
      "name": "python"
    }
  },
  "cells": [
    {
      "cell_type": "markdown",
      "metadata": {
        "id": "view-in-github",
        "colab_type": "text"
      },
      "source": [
        "<a href=\"https://colab.research.google.com/github/Lanaanvar/Numerical-Methods/blob/main/NewtonRaphson.ipynb\" target=\"_parent\"><img src=\"https://colab.research.google.com/assets/colab-badge.svg\" alt=\"Open In Colab\"/></a>"
      ]
    },
    {
      "cell_type": "code",
      "source": [
        "import random\n",
        "def fun(j):\n",
        "    return (j**6) - j - 1\n",
        "\n",
        "def fun_diff(j):\n",
        "    return 6 * j**5 - 1\n",
        "\n",
        "def Newton_Raphson_method(t, max_iterations=100):\n",
        "\n",
        "    lower_limit = 1\n",
        "    upper_limit = 2\n",
        "    x0 = random.uniform(lower_limit, upper_limit)\n",
        "    print(\"Initial x = \", x0)\n",
        "\n",
        "    prev_x = x0\n",
        "    diff = float('inf')\n",
        "    i = 0\n",
        "    while abs(diff) > t and i < max_iterations:\n",
        "        if fun_diff(prev_x) == 0:\n",
        "            print(\"Derivative evaluated to zero.\")\n",
        "        x = prev_x - (fun(prev_x) / fun_diff(prev_x))\n",
        "        diff = abs(prev_x - x)\n",
        "        prev_x = x\n",
        "        i += 1\n",
        "        print(\"Iteration : \", i)\n",
        "        print(\"x : \", x)\n",
        "        print(\"fun(x) : \", fun(x))\n",
        "        print(\"fun_diff(x) : \", fun_diff(x))\n",
        "\n",
        "    return prev_x\n",
        "\n",
        "root = Newton_Raphson_method(0.0001)\n",
        "print(\"Root : \", root)\n"
      ],
      "metadata": {
        "colab": {
          "base_uri": "https://localhost:8080/"
        },
        "id": "_YRThWytswUK",
        "outputId": "3af7a69f-9242-421c-b698-d4125f934cd6"
      },
      "execution_count": 15,
      "outputs": [
        {
          "output_type": "stream",
          "name": "stdout",
          "text": [
            "Initial x =  1.9666551785568454\n",
            "Iteration :  1\n",
            "x :  1.6539140060920532\n",
            "fun(x) :  17.814186935710058\n",
            "fun_diff(x) :  73.25331982101699\n",
            "Iteration :  2\n",
            "x :  1.4107279364472065\n",
            "fun(x) :  5.471692580659859\n",
            "fun_diff(x) :  32.524907163708306\n",
            "Iteration :  3\n",
            "x :  1.242497092524453\n",
            "fun(x) :  1.4368629434573075\n",
            "fun_diff(x) :  16.767574949440853\n",
            "Iteration :  4\n",
            "x :  1.1568041436162255\n",
            "fun(x) :  0.23959421497844136\n",
            "fun_diff(x) :  11.429407545706448\n",
            "Iteration :  5\n",
            "x :  1.1358411834610032\n",
            "fun(x) :  0.011522816511428724\n",
            "fun_diff(x) :  10.343297097729282\n",
            "Iteration :  6\n",
            "x :  1.1347271463795432\n",
            "fun(x) :  3.0945186266118085e-05\n",
            "fun_diff(x) :  10.287778379376725\n",
            "Iteration :  7\n",
            "x :  1.1347241384233913\n",
            "fun(x) :  2.2500845631157063e-10\n",
            "fun_diff(x) :  10.28762877088926\n",
            "Root :  1.1347241384233913\n"
          ]
        }
      ]
    }
  ]
}