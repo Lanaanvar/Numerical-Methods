{
  "nbformat": 4,
  "nbformat_minor": 0,
  "metadata": {
    "colab": {
      "provenance": [],
      "authorship_tag": "ABX9TyPJXVZmRk4QFbrMXxJH5ken",
      "include_colab_link": true
    },
    "kernelspec": {
      "name": "python3",
      "display_name": "Python 3"
    },
    "language_info": {
      "name": "python"
    }
  },
  "cells": [
    {
      "cell_type": "markdown",
      "metadata": {
        "id": "view-in-github",
        "colab_type": "text"
      },
      "source": [
        "<a href=\"https://colab.research.google.com/github/Lanaanvar/Numerical-Methods/blob/main/NewtonRaphson.ipynb\" target=\"_parent\"><img src=\"https://colab.research.google.com/assets/colab-badge.svg\" alt=\"Open In Colab\"/></a>"
      ]
    },
    {
      "cell_type": "code",
      "source": [
        "def fun(j):\n",
        "    return (j**6) - j - 1\n",
        "\n",
        "def fun_diff(j):\n",
        "    return 6 * j**5 - 1\n",
        "\n",
        "def Newton_Raphson_method(t, max_iterations=100):\n",
        "    x0 = 1.5\n",
        "    print(\"Initial x = \", x0)\n",
        "\n",
        "    prev_x = x0\n",
        "    diff = float('inf')\n",
        "    i = 0\n",
        "    while abs(diff) > t and i < max_iterations:\n",
        "        if fun_diff(prev_x) == 0:\n",
        "            print(\"Derivative evaluated to zero.\")\n",
        "        x = prev_x - (fun(prev_x) / fun_diff(prev_x))\n",
        "        diff = abs(prev_x - x)\n",
        "        prev_x = x\n",
        "        i += 1\n",
        "        print(\"Iteration : \", i)\n",
        "        print(\"x : \", x)\n",
        "        print(\"fun(x) : \", fun(x))\n",
        "        print(\"fun_diff(x) : \", fun_diff(x))\n",
        "\n",
        "    return prev_x\n",
        "\n",
        "root = Newton_Raphson_method(0.0001)\n",
        "print(\"Root : \", root)\n"
      ],
      "metadata": {
        "colab": {
          "base_uri": "https://localhost:8080/"
        },
        "id": "0BowtKjLqZj3",
        "outputId": "173b7559-4afc-4796-d727-64a1a8c172e1"
      },
      "execution_count": 13,
      "outputs": [
        {
          "output_type": "stream",
          "name": "stdout",
          "text": [
            "Initial x =  1.5\n",
            "Iteration :  1\n",
            "x :  1.300490883590463\n",
            "fun(x) :  2.5372641434405994\n",
            "fun_diff(x) :  21.319672154908474\n",
            "Iteration :  2\n",
            "x :  1.1814804164029344\n",
            "fun(x) :  0.5384585843251917\n",
            "fun_diff(x) :  12.81286881931954\n",
            "Iteration :  3\n",
            "x :  1.1394555902755263\n",
            "fun(x) :  0.04923525100687365\n",
            "fun_diff(x) :  10.524929237934565\n",
            "Iteration :  4\n",
            "x :  1.1347776252371091\n",
            "fun(x) :  0.0005503238583937087\n",
            "fun_diff(x) :  10.290289312759391\n",
            "Iteration :  5\n",
            "x :  1.134724145316218\n",
            "fun(x) :  7.113585276385948e-08\n",
            "fun_diff(x) :  10.287629113720033\n",
            "Root :  1.134724145316218\n"
          ]
        }
      ]
    }
  ]
}