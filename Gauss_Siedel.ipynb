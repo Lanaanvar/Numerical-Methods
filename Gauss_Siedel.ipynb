{
  "nbformat": 4,
  "nbformat_minor": 0,
  "metadata": {
    "colab": {
      "provenance": [],
      "authorship_tag": "ABX9TyPpCfBgK6otezHWZGoVzzD4",
      "include_colab_link": true
    },
    "kernelspec": {
      "name": "python3",
      "display_name": "Python 3"
    },
    "language_info": {
      "name": "python"
    }
  },
  "cells": [
    {
      "cell_type": "markdown",
      "metadata": {
        "id": "view-in-github",
        "colab_type": "text"
      },
      "source": [
        "<a href=\"https://colab.research.google.com/github/Lanaanvar/Numerical-Methods/blob/main/Gauss_Siedel.ipynb\" target=\"_parent\"><img src=\"https://colab.research.google.com/assets/colab-badge.svg\" alt=\"Open In Colab\"/></a>"
      ]
    },
    {
      "cell_type": "code",
      "source": [
        "import numpy as np\n",
        "\n",
        "xg=0\n",
        "yg=0\n",
        "zg=0\n",
        "\n",
        "error=1\n",
        "count=0\n",
        "\n",
        "while error>1.E-5:\n",
        "    count+=1\n",
        "\n",
        "    x=(7.85+0.1*yg+0.3*zg)/3\n",
        "    y=(-19.3-0.1*xg+0.3*zg)/7\n",
        "    z=(71.4-0.3*yg+0.2*zg)/10\n",
        "\n",
        "    error = abs(x-xg)+abs(y-yg)+abs(z-zg)\n",
        "\n",
        "    xg=x\n",
        "    yg=y\n",
        "    zg=z\n",
        "\n",
        "print(f'x={x}, y={y}, z={z}')"
      ],
      "metadata": {
        "colab": {
          "base_uri": "https://localhost:8080/"
        },
        "id": "tkXN6rZTq93p",
        "outputId": "c48ecfcf-bfa0-44dd-ec91-68abb8c3f511"
      },
      "execution_count": 5,
      "outputs": [
        {
          "output_type": "stream",
          "name": "stdout",
          "text": [
            "x=3.2699105386065477, y=-2.48834636092755, z=7.361888181831712\n"
          ]
        }
      ]
    }
  ]
}